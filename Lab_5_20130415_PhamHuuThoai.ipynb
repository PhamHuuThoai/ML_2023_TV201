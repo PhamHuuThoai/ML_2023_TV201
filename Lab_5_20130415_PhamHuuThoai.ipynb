{
  "nbformat": 4,
  "nbformat_minor": 0,
  "metadata": {
    "colab": {
      "provenance": [],
      "include_colab_link": true
    },
    "kernelspec": {
      "name": "python3",
      "display_name": "Python 3"
    },
    "language_info": {
      "name": "python"
    }
  },
  "cells": [
    {
      "cell_type": "markdown",
      "metadata": {
        "id": "view-in-github",
        "colab_type": "text"
      },
      "source": [
        "<a href=\"https://colab.research.google.com/github/PhamHuuThoai/ML_2023_TV201/blob/main/Lab_5_20130415_PhamHuuThoai.ipynb\" target=\"_parent\"><img src=\"https://colab.research.google.com/assets/colab-badge.svg\" alt=\"Open In Colab\"/></a>"
      ]
    },
    {
      "cell_type": "markdown",
      "source": [
        "# This lab is to deal with **SVM** to classification tasks and compare its performance with other competitive algorithms. In general, **SVM** is one of the most popular and widely used supervised machine learning algorithms.\n",
        "\n",
        "*   **Deadline: 23:59, 17/03/2023**\n",
        "\n"
      ],
      "metadata": {
        "id": "LMzehe0sy5wr"
      }
    },
    {
      "cell_type": "markdown",
      "source": [
        "# Import libraries"
      ],
      "metadata": {
        "id": "H4nJmxp9zGX4"
      }
    },
    {
      "cell_type": "code",
      "execution_count": null,
      "metadata": {
        "id": "DoVWQ8AEyc-C"
      },
      "outputs": [],
      "source": [
        "\n",
        "import pandas as pd\n",
        "import numpy as np\n",
        "from sklearn.datasets import fetch_openml\n",
        "from keras.datasets import mnist\n",
        "import matplotlib.pyplot as plt\n",
        "from sklearn.impute import SimpleImputer as sk\n",
        "from sklearn.linear_model import LinearRegression\n",
        "from sklearn.model_selection import train_test_split\n",
        "from sklearn.neighbors import NearestNeighbors\n",
        "from sklearn import datasets\n",
        "from sklearn.linear_model import LogisticRegression\n",
        "from sklearn.metrics import confusion_matrix \n",
        "from sklearn.datasets import fetch_openml\n",
        "from sklearn.model_selection import train_test_split\n",
        "from sklearn.tree import DecisionTreeClassifier\n",
        "from sklearn.neighbors import KNeighborsClassifier\n",
        "from sklearn.linear_model import LogisticRegression\n",
        "from sklearn.svm import SVC\n",
        "from sklearn.metrics import accuracy_score \n",
        "from sklearn.metrics import ConfusionMatrixDisplay\n",
        "from sklearn.tree import DecisionTreeRegressor\n",
        "from sklearn.metrics import recall_score\n",
        "from sklearn.datasets import load_iris\n",
        "from sklearn.metrics import f1_score\n",
        "from sklearn.metrics import precision_score\n",
        "from sklearn.neighbors import KNeighborsClassifier\n",
        "from sklearn import svm\n",
        "from google.colab import drive\n",
        "from prettytable import PrettyTable\n"
      ]
    },
    {
      "cell_type": "markdown",
      "source": [
        "#Task 1. \n",
        "For breast cancer dataset (https://tinyurl.com/3vme8hr3) which could be loaded from datasets in sklearn as follows:\n",
        "\n",
        "```\n",
        "#Import scikit-learn dataset library\n",
        "from sklearn import datasets\n",
        "\n",
        "#Load dataset\n",
        "cancer = datasets.load_breast_cancer()\n",
        "```\n",
        "\n",
        "*   1.1.\tApply SVM algorithm to above dataset using linear kernel.\n",
        "*   1.2.\tCompare the obtained results with other competitive algorithms (Logistic Regression, Decision Tree, kNN) based on metrics: accuracy, precision, recall, f1 measures.\n",
        "\n"
      ],
      "metadata": {
        "id": "kNv07ARGzOUm"
      }
    },
    {
      "cell_type": "code",
      "source": [
        "cancer = datasets.load_breast_cancer()\n",
        "x = cancer['data']\n",
        "y = cancer['target']\n",
        "X_train, X_test, y_train, y_test = train_test_split(x, y, test_size = 0.3, random_state = 1)\n",
        "\n",
        "\n",
        "clf = svm.SVC(kernel='linear') \n",
        "clf.fit(X_train, y_train)\n",
        "y_pred = clf.predict(X_test)\n",
        "print (\"Accuracy : \", accuracy_score(y_test, y_pred))\n",
        "print(\"Precision : \",precision_score(y_test, y_pred , average=None))\n",
        "print (\"f1 : \",f1_score(y_test, y_pred , average=None))\n",
        "print (\"Recall : \",recall_score(y_test, y_pred , average=None))\n"
      ],
      "metadata": {
        "id": "sOsg77IBzEyo",
        "colab": {
          "base_uri": "https://localhost:8080/"
        },
        "outputId": "57674644-c5a2-4140-b41b-7e5979970411"
      },
      "execution_count": null,
      "outputs": [
        {
          "output_type": "stream",
          "name": "stdout",
          "text": [
            "Accuracy :  0.9532163742690059\n",
            "Precision :  [0.96610169 0.94642857]\n",
            "f1 :  [0.93442623 0.96363636]\n",
            "Recall :  [0.9047619  0.98148148]\n"
          ]
        }
      ]
    },
    {
      "cell_type": "markdown",
      "source": [
        "#Task 2. \n",
        "\n",
        "*   1.1.\tPerform SVM algorithm to **Iris dataset** using **linear kernel**.\n",
        "*   1.2.\tCompare the obtained results in 1.1 with SVM using other kernels (**Polynomial Kernel, Gaussian Kernel, Sigmoid Kernel, Radial Basis Function Kernel**). Some metrics could be used: accuracy, precision, recall, f1 measures\n",
        "\n",
        "\n",
        "\n"
      ],
      "metadata": {
        "id": "S43IoUT-0OQq"
      }
    },
    {
      "cell_type": "code",
      "source": [
        "tb = PrettyTable()\n",
        "tb.field_names = [\"\",\"Accuracy\", \"Precision\", \"F1\", \"Recall\"]"
      ],
      "metadata": {
        "id": "3IgrVqnasujV"
      },
      "execution_count": null,
      "outputs": []
    },
    {
      "cell_type": "code",
      "source": [
        "data1 = datasets.load_iris()\n",
        "\n",
        "x = data1['data']\n",
        "y = data1['target']\n",
        "X_train, X_test, y_train, y_test = train_test_split(x, y, test_size = 0.9, random_state = 1)\n",
        "clf = svm.SVC(kernel='linear') \n",
        "clf.fit(X_train, y_train)\n",
        "y_pred = clf.predict(X_test)\n",
        "tb.add_row([\"Linear\", accuracy_score(y_test, y_pred)\n",
        ",precision_score(y_test, y_pred , average='macro',zero_division=0)\n",
        ",f1_score(y_test, y_pred , average='macro',zero_division=0) \n",
        ",recall_score(y_test, y_pred , average='macro',zero_division=0) ])\n"
      ],
      "metadata": {
        "id": "_xhPpF5b033h"
      },
      "execution_count": null,
      "outputs": []
    },
    {
      "cell_type": "code",
      "source": [
        "data1 = datasets.load_iris()\n",
        "\n",
        "x = data1['data']\n",
        "y = data1['target']\n",
        "X_train, X_test, y_train, y_test = train_test_split(x, y, test_size = 0.9, random_state = 1)\n",
        "clf = svm.SVC(kernel='poly') \n",
        "clf.fit(X_train, y_train)\n",
        "y_pred = clf.predict(X_test)\n",
        "tb.add_row([\"Poly\", accuracy_score(y_test, y_pred)\n",
        ",precision_score(y_test, y_pred , average='macro',zero_division=0)\n",
        ",f1_score(y_test, y_pred , average='macro',zero_division=0)\n",
        ",recall_score(y_test, y_pred , average='macro',zero_division=0) ])\n"
      ],
      "metadata": {
        "id": "tzAYcGVFsUNk"
      },
      "execution_count": null,
      "outputs": []
    },
    {
      "cell_type": "code",
      "source": [
        "data1 = datasets.load_iris()\n",
        "\n",
        "x = data1['data']\n",
        "y = data1['target']\n",
        "X_train, X_test, y_train, y_test = train_test_split(x, y, test_size = 0.9, random_state = 1)\n",
        "clf = svm.SVC(kernel='sigmoid') \n",
        "clf.fit(X_train, y_train)\n",
        "y_pred = clf.predict(X_test)\n",
        "tb.add_row([\"Sigmoid\", accuracy_score(y_test, y_pred)\n",
        ",precision_score(y_test, y_pred , average='macro',zero_division=0)\n",
        ", f1_score(y_test, y_pred , average='macro',zero_division=0) \n",
        ",recall_score(y_test, y_pred , average='macro',zero_division=0) ])\n",
        "\n",
        "# print(accuracy_score(y_test, y_pred))\n",
        "# print(precision_score(y_test, y_pred , average=\"macro\",zero_division=0))\n",
        "# print(f1_score(y_test, y_pred , average='macro',zero_division=0))\n",
        "# print(recall_score(y_test, y_pred , average='macro',zero_division=0))"
      ],
      "metadata": {
        "id": "DCVdco12sUjl"
      },
      "execution_count": null,
      "outputs": []
    },
    {
      "cell_type": "code",
      "source": [
        "data1 = datasets.load_iris()\n",
        "\n",
        "x = data1['data']\n",
        "y = data1['target']\n",
        "X_train, X_test, y_train, y_test = train_test_split(x, y, test_size = 0.9, random_state = 1)\n",
        "clf = svm.SVC(kernel='rbf') \n",
        "clf.fit(X_train, y_train)\n",
        "y_pred = clf.predict(X_test)\n",
        "tb.add_row([\"Gauss\", accuracy_score(y_test, y_pred)\n",
        ",precision_score(y_test, y_pred , average='macro',zero_division=0)\n",
        ", f1_score(y_test, y_pred , average='macro',zero_division=0) \n",
        ",recall_score(y_test, y_pred , average='macro',zero_division=0) ])\n",
        "tb\n"
      ],
      "metadata": {
        "colab": {
          "base_uri": "https://localhost:8080/",
          "height": 123
        },
        "id": "j6UN3dqOsUGl",
        "outputId": "7cae5d90-5ab0-4526-9e12-3f3d42f4828d"
      },
      "execution_count": null,
      "outputs": [
        {
          "output_type": "execute_result",
          "data": {
            "text/plain": [
              "+---------+---------------------+---------------------+---------------------+---------------------+\n",
              "|         |       Accuracy      |      Precision      |          F1         |        Recall       |\n",
              "+---------+---------------------+---------------------+---------------------+---------------------+\n",
              "|  Linear |  0.9555555555555556 |  0.9551414768806072 |  0.9545219638242893 |  0.9545454545454546 |\n",
              "|   Poly  |  0.9555555555555556 |  0.9551414768806072 |  0.9545219638242893 |  0.9545454545454546 |\n",
              "| Sigmoid | 0.14074074074074075 | 0.10149572649572651 | 0.11336775674125073 | 0.14393939393939392 |\n",
              "|  Gauss  |  0.9407407407407408 |  0.9445614035087719 |  0.9391108804705067 |  0.9393939393939394 |\n",
              "+---------+---------------------+---------------------+---------------------+---------------------+"
            ],
            "text/html": [
              "<table>\n",
              "    <thead>\n",
              "        <tr>\n",
              "            <th></th>\n",
              "            <th>Accuracy</th>\n",
              "            <th>Precision</th>\n",
              "            <th>F1</th>\n",
              "            <th>Recall</th>\n",
              "        </tr>\n",
              "    </thead>\n",
              "    <tbody>\n",
              "        <tr>\n",
              "            <td>Linear</td>\n",
              "            <td>0.9555555555555556</td>\n",
              "            <td>0.9551414768806072</td>\n",
              "            <td>0.9545219638242893</td>\n",
              "            <td>0.9545454545454546</td>\n",
              "        </tr>\n",
              "        <tr>\n",
              "            <td>Poly</td>\n",
              "            <td>0.9555555555555556</td>\n",
              "            <td>0.9551414768806072</td>\n",
              "            <td>0.9545219638242893</td>\n",
              "            <td>0.9545454545454546</td>\n",
              "        </tr>\n",
              "        <tr>\n",
              "            <td>Sigmoid</td>\n",
              "            <td>0.14074074074074075</td>\n",
              "            <td>0.10149572649572651</td>\n",
              "            <td>0.11336775674125073</td>\n",
              "            <td>0.14393939393939392</td>\n",
              "        </tr>\n",
              "        <tr>\n",
              "            <td>Gauss</td>\n",
              "            <td>0.9407407407407408</td>\n",
              "            <td>0.9445614035087719</td>\n",
              "            <td>0.9391108804705067</td>\n",
              "            <td>0.9393939393939394</td>\n",
              "        </tr>\n",
              "    </tbody>\n",
              "</table>"
            ]
          },
          "metadata": {},
          "execution_count": 8
        }
      ]
    },
    {
      "cell_type": "markdown",
      "source": [
        "#Task 3. \n",
        "Compare the performance of selected classification algorithms (Decision Tree, kNN, Logistic Regression) and SVM (using different kernels) with mnist dataset based on accuracy, precision, recall, f1 measures.\n"
      ],
      "metadata": {
        "id": "b52OPWPD2afi"
      }
    },
    {
      "cell_type": "code",
      "source": [
        "tb = PrettyTable()\n",
        "tb.field_names = [\"\",\"Accuracy\", \"Precision\", \"F1\", \"Recall\"]"
      ],
      "metadata": {
        "id": "DeK8qS_J1ReM"
      },
      "execution_count": null,
      "outputs": []
    },
    {
      "cell_type": "code",
      "source": [
        "mnist = fetch_openml('mnist_784', version=1)\n",
        "x = mnist['data']\n",
        "y = mnist['target']\n",
        "X_train, X_test, y_train, y_test = train_test_split(x, y, test_size = 0.3, random_state = 1)\n",
        "KNN = KNeighborsClassifier(n_neighbors= 3)\n",
        "KNN.fit(X_train, y_train)\n",
        "y_pred = KNN.predict(X_test)\n",
        "tb.add_row([\"KNN\", accuracy_score(y_test, y_pred)\n",
        ",precision_score(y_test, y_pred , average='macro',zero_division=0)\n",
        ", f1_score(y_test, y_pred , average='macro',zero_division=0) \n",
        ",recall_score(y_test, y_pred , average='macro',zero_division=0) ])\n"
      ],
      "metadata": {
        "colab": {
          "base_uri": "https://localhost:8080/"
        },
        "id": "OVztBOV8y_ls",
        "outputId": "b1cf5d3f-dfa1-4552-bca2-796bfff75f14"
      },
      "execution_count": null,
      "outputs": [
        {
          "output_type": "stream",
          "name": "stderr",
          "text": [
            "/usr/local/lib/python3.9/dist-packages/sklearn/datasets/_openml.py:968: FutureWarning: The default value of `parser` will change from `'liac-arff'` to `'auto'` in 1.4. You can set `parser='auto'` to silence this warning. Therefore, an `ImportError` will be raised from 1.4 if the dataset is dense and pandas is not installed. Note that the pandas parser may return different data types. See the Notes Section in fetch_openml's API doc for details.\n",
            "  warn(\n"
          ]
        }
      ]
    },
    {
      "cell_type": "code",
      "source": [
        "mnist = fetch_openml('mnist_784', version=1)\n",
        "x = mnist['data']\n",
        "y = mnist['target']\n",
        "\n",
        "X_train, X_test, y_train, y_test = train_test_split(x, y, test_size=0.2, random_state=42)\n",
        "knn_clf = KNeighborsClassifier(n_neighbors=5)\n",
        "knn_clf.fit(X_train, y_train)\n",
        "y_pred = knn_clf.predict(X_test)\n",
        "tb.add_row([\"Sigmoid\", accuracy_score(y_test, y_pred)\n",
        ",precision_score(y_test, y_pred , average='macro',zero_division=0)\n",
        ", f1_score(y_test, y_pred , average='macro',zero_division=0) \n",
        ",recall_score(y_test, y_pred , average='macro',zero_division=0) ])"
      ],
      "metadata": {
        "colab": {
          "base_uri": "https://localhost:8080/"
        },
        "id": "ykAObhA3562K",
        "outputId": "8e8c0dee-6ecf-428b-e5f5-a1638c02f821"
      },
      "execution_count": null,
      "outputs": [
        {
          "output_type": "stream",
          "name": "stderr",
          "text": [
            "/usr/local/lib/python3.9/dist-packages/sklearn/datasets/_openml.py:968: FutureWarning: The default value of `parser` will change from `'liac-arff'` to `'auto'` in 1.4. You can set `parser='auto'` to silence this warning. Therefore, an `ImportError` will be raised from 1.4 if the dataset is dense and pandas is not installed. Note that the pandas parser may return different data types. See the Notes Section in fetch_openml's API doc for details.\n",
            "  warn(\n"
          ]
        }
      ]
    },
    {
      "cell_type": "code",
      "source": [
        "mnist = fetch_openml('mnist_784', version=1)\n",
        "X, y = mnist['data'], mnist['target']\n",
        "x = mnist['data']\n",
        "y = mnist['target']\n",
        "X_train, X_test, y_train, y_test = train_test_split(x, y, test_size = 0.9, random_state = 1)\n",
        "clf = svm.SVC(kernel='rbf') \n",
        "clf.fit(X_train, y_train)\n",
        "y_pred = clf.predict(X_test)\n",
        "tb.add_row([\"rbf\", accuracy_score(y_test, y_pred)\n",
        ",precision_score(y_test, y_pred , average='macro',zero_division=0)\n",
        ", f1_score(y_test, y_pred , average='macro',zero_division=0) \n",
        ",recall_score(y_test, y_pred , average='macro',zero_division=0) ])\n",
        "tb\n"
      ],
      "metadata": {
        "colab": {
          "base_uri": "https://localhost:8080/",
          "height": 157
        },
        "id": "wp-7OHmFzAMM",
        "outputId": "75de1c29-6f98-4dc7-91a5-08805302dd6c"
      },
      "execution_count": null,
      "outputs": [
        {
          "output_type": "stream",
          "name": "stderr",
          "text": [
            "/usr/local/lib/python3.9/dist-packages/sklearn/datasets/_openml.py:968: FutureWarning: The default value of `parser` will change from `'liac-arff'` to `'auto'` in 1.4. You can set `parser='auto'` to silence this warning. Therefore, an `ImportError` will be raised from 1.4 if the dataset is dense and pandas is not installed. Note that the pandas parser may return different data types. See the Notes Section in fetch_openml's API doc for details.\n",
            "  warn(\n"
          ]
        },
        {
          "output_type": "execute_result",
          "data": {
            "text/plain": [
              "+---------+--------------------+--------------------+--------------------+--------------------+\n",
              "|         |      Accuracy      |     Precision      |         F1         |       Recall       |\n",
              "+---------+--------------------+--------------------+--------------------+--------------------+\n",
              "|   KNN   | 0.9702380952380952 | 0.9706345003886113 | 0.970095414510177  | 0.9698505349047203 |\n",
              "| Sigmoid | 0.9700714285714286 | 0.9706552322744569 |  0.9700278648171   | 0.9696706936506783 |\n",
              "|   rbf   | 0.956031746031746  | 0.9558055603107058 | 0.9556371470231391 | 0.9555596878196904 |\n",
              "+---------+--------------------+--------------------+--------------------+--------------------+"
            ],
            "text/html": [
              "<table>\n",
              "    <thead>\n",
              "        <tr>\n",
              "            <th></th>\n",
              "            <th>Accuracy</th>\n",
              "            <th>Precision</th>\n",
              "            <th>F1</th>\n",
              "            <th>Recall</th>\n",
              "        </tr>\n",
              "    </thead>\n",
              "    <tbody>\n",
              "        <tr>\n",
              "            <td>KNN</td>\n",
              "            <td>0.9702380952380952</td>\n",
              "            <td>0.9706345003886113</td>\n",
              "            <td>0.970095414510177</td>\n",
              "            <td>0.9698505349047203</td>\n",
              "        </tr>\n",
              "        <tr>\n",
              "            <td>Sigmoid</td>\n",
              "            <td>0.9700714285714286</td>\n",
              "            <td>0.9706552322744569</td>\n",
              "            <td>0.9700278648171</td>\n",
              "            <td>0.9696706936506783</td>\n",
              "        </tr>\n",
              "        <tr>\n",
              "            <td>rbf</td>\n",
              "            <td>0.956031746031746</td>\n",
              "            <td>0.9558055603107058</td>\n",
              "            <td>0.9556371470231391</td>\n",
              "            <td>0.9555596878196904</td>\n",
              "        </tr>\n",
              "    </tbody>\n",
              "</table>"
            ]
          },
          "metadata": {},
          "execution_count": 12
        }
      ]
    },
    {
      "cell_type": "markdown",
      "source": [
        "#Task 4. \n",
        "Compare the performance of selected classification algorithms (Decision Tree, kNN, Logistic Regression) and SVM (using different kernels) with **credit card dataset** based on accuracy, precision, recall, f1 measures.\n",
        "\n",
        "*   Give some comments on the obtained results\n",
        "*   Identify issues with dataset, and propose the solutions to these issues\n",
        "\n"
      ],
      "metadata": {
        "id": "Z5pp7_h-aP2u"
      }
    },
    {
      "cell_type": "code",
      "source": [
        "# code"
      ],
      "metadata": {
        "id": "Rw_-8FIf2KxW"
      },
      "execution_count": null,
      "outputs": []
    },
    {
      "cell_type": "markdown",
      "source": [
        "#Finally,\n",
        "Save a copy in your Github. Remember renaming the notebook."
      ],
      "metadata": {
        "id": "Ok7RGkea_b7n"
      }
    }
  ]
}